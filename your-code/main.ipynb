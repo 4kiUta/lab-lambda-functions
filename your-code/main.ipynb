{
 "cells": [
  {
   "cell_type": "markdown",
   "metadata": {},
   "source": [
    "# Before your start:\n",
    "- Read the README.md file\n",
    "- Comment as much as you can and use the resources in the README.md file\n",
    "- Happy learning!"
   ]
  },
  {
   "cell_type": "markdown",
   "metadata": {},
   "source": [
    "# Challenge 1 - Passing a Lambda Expression to a Function\n",
    "\n",
    "In the next excercise you will create a function that returns a lambda expression. Create a function called `modify_list`. The function takes two arguments, a list and a lambda expression. The function iterates through the list and applies the lambda expression to every element in the list."
   ]
  },
  {
   "cell_type": "markdown",
   "metadata": {},
   "source": [
    "Follow the steps as stated below:\n",
    "    1. Define a list of any 10 numbers\n",
    "    2. Define a simple lambda expression for eg that updates a number by 2\n",
    "    3. Define an empty list\n",
    "    4. Define the function -> use the lambda function to append the empty list\n",
    "    5. Call the function with list and lambda expression\n",
    "    6. print the updated list  "
   ]
  },
  {
   "cell_type": "code",
   "execution_count": 23,
   "metadata": {},
   "outputs": [
    {
     "name": "stdout",
     "output_type": "stream",
     "text": [
      "[45, 44, 11, 79, 17, 34, 73, 100, 19, 41]\n",
      "\n",
      "[47, 46, 13, 81, 19, 36, 75, 102, 21, 43]\n",
      "\n",
      "[47, 46, 13, 81, 19, 36, 75, 102, 21, 43]\n"
     ]
    }
   ],
   "source": [
    "# your code here\n",
    "import random\n",
    "\n",
    "_list = random.sample(range(101), k = 10)\n",
    "\n",
    "\n",
    "new_list = []\n",
    "\n",
    "print(_list)\n",
    "print ('')\n",
    "plus_2 = lambda x: x + 2\n",
    "\n",
    "def modify_list(lis, lam):\n",
    "    for x in lis:\n",
    "        new_list.append(lam(x))\n",
    "    return new_list\n",
    "    \n",
    "\n",
    "print(modify_list(_list, plus_2))\n",
    "\n",
    "##OR\n",
    "\n",
    "print('')\n",
    "\n",
    "def modify_list2(li,la):\n",
    "     return [la(i) for i in li]\n",
    "\n",
    "print(modify_list2(_list, plus_2))   "
   ]
  },
  {
   "cell_type": "markdown",
   "metadata": {},
   "source": [
    "#### Now we will define a lambda expression that will transform the elements of the list. \n",
    "\n",
    "In the cell below, create a lambda expression that converts Celsius to Kelvin. Recall that 0°C + 273.15 = 273.15K"
   ]
  },
  {
   "cell_type": "code",
   "execution_count": 28,
   "metadata": {},
   "outputs": [],
   "source": [
    "# Your code here:\n",
    "\n",
    "kel = lambda c: c + 273.15"
   ]
  },
  {
   "cell_type": "markdown",
   "metadata": {},
   "source": [
    "Finally, convert the list of temperatures below from Celsius to Kelvin."
   ]
  },
  {
   "cell_type": "code",
   "execution_count": 29,
   "metadata": {},
   "outputs": [
    {
     "name": "stdout",
     "output_type": "stream",
     "text": [
      "[285.15, 296.15, 311.15, 218.14999999999998, 297.15]\n"
     ]
    }
   ],
   "source": [
    "temps = [12, 23, 38, -55, 24]\n",
    "\n",
    "# Your code here:\n",
    "print([kel(temp) for temp in temps])"
   ]
  },
  {
   "cell_type": "markdown",
   "metadata": {},
   "source": [
    "#### In this part, we will define a function that returns a lambda expression\n",
    "\n",
    "In the cell below, write a lambda expression that takes two numbers and returns 1 if one is divisible by the other and zero otherwise. Call the lambda expression `mod`."
   ]
  },
  {
   "cell_type": "code",
   "execution_count": 33,
   "metadata": {},
   "outputs": [
    {
     "name": "stdout",
     "output_type": "stream",
     "text": [
      "0\n"
     ]
    }
   ],
   "source": [
    "# Your code here:\n",
    "\n",
    "mod = lambda x,y : 1 if y % x == 0 else 0 \n",
    "\n"
   ]
  },
  {
   "cell_type": "markdown",
   "metadata": {},
   "source": [
    "#### Now create a function that returns mod. The function only takes one argument - the first number in the `mod` lambda function. \n",
    "\n",
    "Note: the lambda function above took two arguments, the lambda function in the return statement only takes one argument but also uses the argument passed to the function."
   ]
  },
  {
   "cell_type": "code",
   "execution_count": 40,
   "metadata": {},
   "outputs": [],
   "source": [
    "def divisor(a):\n",
    "    \"\"\"\n",
    "    input: a number\n",
    "    output: a function that returns 1 if the number is divisible by another number (to be passed later) and zero otherwise\n",
    "    \"\"\"\n",
    "    # Your code here:\n",
    "    return lambda y : 1 if y % a == 0 else 0 \n",
    "    \n"
   ]
  },
  {
   "cell_type": "markdown",
   "metadata": {},
   "source": [
    "Finally, pass the number 5 to `divisor`. Now the function will check whether a number is divisble by 5. Assign this function to `divisible5`"
   ]
  },
  {
   "cell_type": "code",
   "execution_count": 41,
   "metadata": {},
   "outputs": [],
   "source": [
    "# Your code here:\n",
    "divisible5 = divisor(5)"
   ]
  },
  {
   "cell_type": "markdown",
   "metadata": {},
   "source": [
    "Test your function with the following test cases:"
   ]
  },
  {
   "cell_type": "code",
   "execution_count": 42,
   "metadata": {},
   "outputs": [
    {
     "data": {
      "text/plain": [
       "1"
      ]
     },
     "execution_count": 42,
     "metadata": {},
     "output_type": "execute_result"
    }
   ],
   "source": [
    "divisible5(10)"
   ]
  },
  {
   "cell_type": "code",
   "execution_count": 43,
   "metadata": {},
   "outputs": [
    {
     "data": {
      "text/plain": [
       "0"
      ]
     },
     "execution_count": 43,
     "metadata": {},
     "output_type": "execute_result"
    }
   ],
   "source": [
    "divisible5(8)"
   ]
  },
  {
   "cell_type": "markdown",
   "metadata": {},
   "source": [
    "# Challenge 2 - Using Lambda Expressions in List Comprehensions\n",
    "\n",
    "In the following challenge, we will combine two lists using a lambda expression in a list comprehension. \n",
    "\n",
    "To do this, we will need to introduce the `zip` function. The `zip` function returns an iterator of tuples.\n",
    "\n",
    "The way zip function works with list has been shown below:"
   ]
  },
  {
   "cell_type": "code",
   "execution_count": 44,
   "metadata": {},
   "outputs": [
    {
     "data": {
      "text/plain": [
       "[('Green', 'eggs'),\n",
       " ('cheese', 'cheese'),\n",
       " ('English', 'cucumber'),\n",
       " ('tomato', 'tomato')]"
      ]
     },
     "execution_count": 44,
     "metadata": {},
     "output_type": "execute_result"
    }
   ],
   "source": [
    "list1 = ['Green', 'cheese', 'English', 'tomato']\n",
    "list2 = ['eggs', 'cheese', 'cucumber', 'tomato']\n",
    "zipped = zip(list1,list2)\n",
    "list(zipped)"
   ]
  },
  {
   "cell_type": "markdown",
   "metadata": {},
   "source": [
    "In this exercise we will try to compare the elements on the same index in the two lists. \n",
    "We want to zip the two lists and then use a lambda expression to compare if:\n",
    "list1 element > list2 element "
   ]
  },
  {
   "cell_type": "code",
   "execution_count": 60,
   "metadata": {},
   "outputs": [
    {
     "name": "stdout",
     "output_type": "stream",
     "text": [
      "[(1, 2), (2, 3), (4, 3), (4, 5)]\n",
      "[False, False, True, False]\n"
     ]
    }
   ],
   "source": [
    "list1 = [1,2,4,4]\n",
    "list2 = [2,3,3,5]\n",
    "## Zip the lists together \n",
    "\n",
    "zipped = list(zip(list1,list2))\n",
    "## Print the zipped list \n",
    "print(zipped)\n",
    "\n",
    "## Use a lambda expression to compare if: list1 element > list2 element\n",
    "\n",
    "compare = lambda x,y : True if x > y else False\n",
    "\n",
    "x = [compare(i,ii) for i,ii in zipped]\n",
    "\n",
    "print(x)"
   ]
  },
  {
   "cell_type": "markdown",
   "metadata": {},
   "source": [
    "Complete the parts of the code marked as \"###\""
   ]
  },
  {
   "cell_type": "markdown",
   "metadata": {},
   "source": [
    "# Challenge 3 - Using Lambda Expressions as Arguments\n",
    "\n",
    "#### In this challenge, we will zip together two lists and sort by the resulting tuple.\n",
    "\n",
    "In the cell below, take the two lists provided, zip them together and sort by the first letter of the second element of each tuple. Do this using a lambda function."
   ]
  },
  {
   "cell_type": "code",
   "execution_count": 83,
   "metadata": {},
   "outputs": [
    {
     "name": "stdout",
     "output_type": "stream",
     "text": [
      "[('Engineering', 'Lab'), ('Computer Science', 'Homework'), ('Political Science', 'Essay'), ('Mathematics', 'Module')]\n",
      "\n",
      "[('Computer Science', 'Homework'), ('Engineering', 'Lab'), ('Mathematics', 'Module'), ('Political Science', 'Essay')]\n",
      "\n",
      "[('Political Science', 'Essay'), ('Computer Science', 'Homework'), ('Engineering', 'Lab'), ('Mathematics', 'Module')]\n"
     ]
    }
   ],
   "source": [
    "list1 = ['Engineering', 'Computer Science', 'Political Science', 'Mathematics']\n",
    "list2 = ['Lab', 'Homework', 'Essay', 'Module']\n",
    "\n",
    "# Your code here:\n",
    "\n",
    "zipped = list(zip(list1,list2))\n",
    "\n",
    "print(zipped)\n",
    "\n",
    "print('')\n",
    "\n",
    "sort = lambda x : x[1]\n",
    "\n",
    "print(sorted(zipped, key=lambda x: x[0])) # the key will decide the order, the sorted method goes through all the iterables so the x will take the value of each tuple in the list and the key choose what is the element we want the the order \n",
    "\n",
    "# or\n",
    "\n",
    "print('')\n",
    "\n",
    "print(sorted(zipped, key = sort))\n"
   ]
  },
  {
   "cell_type": "markdown",
   "metadata": {},
   "source": [
    "# Bonus Challenge - Sort a Dictionary by Values\n",
    "\n",
    "Given the dictionary below, sort it by values rather than by keys. Use a lambda function to specify the values as a sorting key."
   ]
  },
  {
   "cell_type": "code",
   "execution_count": 118,
   "metadata": {},
   "outputs": [
    {
     "name": "stdout",
     "output_type": "stream",
     "text": [
      "dict_items([('Honda', 1997), ('Toyota', 1995), ('Audi', 2001), ('BMW', 2005)])\n",
      "\n",
      "[('Toyota', 1995), ('Honda', 1997), ('Audi', 2001), ('BMW', 2005)]\n",
      "\n",
      "{'Toyota': 1995, 'Honda': 1997, 'Audi': 2001, 'BMW': 2005}\n"
     ]
    }
   ],
   "source": [
    "d = {'Honda': 1997, 'Toyota': 1995, 'Audi': 2001, 'BMW': 2005}\n",
    "\n",
    "# Your code here:\n",
    "\n",
    "sort = lambda x: x[1]\n",
    "\n",
    "print(d.items())\n",
    "print('')\n",
    "print(sorted(d.items(), key=lambda dic_items: dic_items[1])) # this is a list\n",
    "#or\n",
    "print('')\n",
    "dic_sort = {key: value for key, value in sorted(d.items(), key = sort)} # this a dic\n",
    "\n",
    "print(dic_sort)"
   ]
  },
  {
   "cell_type": "code",
   "execution_count": null,
   "metadata": {},
   "outputs": [],
   "source": []
  }
 ],
 "metadata": {
  "kernelspec": {
   "display_name": "Python 3",
   "language": "python",
   "name": "python3"
  },
  "language_info": {
   "codemirror_mode": {
    "name": "ipython",
    "version": 3
   },
   "file_extension": ".py",
   "mimetype": "text/x-python",
   "name": "python",
   "nbconvert_exporter": "python",
   "pygments_lexer": "ipython3",
   "version": "3.7.4"
  }
 },
 "nbformat": 4,
 "nbformat_minor": 2
}
